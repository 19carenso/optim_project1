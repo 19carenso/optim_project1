{
 "cells": [
  {
   "cell_type": "markdown",
   "metadata": {},
   "source": [
    "# Projet Optimisation Groupe 1 \n"
   ]
  },
  {
   "cell_type": "markdown",
   "metadata": {},
   "source": [
    "## 1 Modélisation\n"
   ]
  },
  {
   "cell_type": "markdown",
   "metadata": {},
   "source": [
    "### 1. Formuler la fonction objectif du problème. On pourra supposer l’existence de deux tarifs électriques (heures pleines et heures creuses)"
   ]
  },
  {
   "cell_type": "markdown",
   "metadata": {},
   "source": [
    "Etant donné qu'il est précisé qu'on ait à considérer deux tarifs, la fonction d'optimisation doit être le cout en euros du nombre de kWh utilisé. Le but étant de minimiser ce coût en achetant de l'éléctricité pendant les heures creuses. On a une contrainte triple, à savoir :\n",
    "- le temps de recharge est imposé par l'utilisateur (c'est lui qui fixe l'heure de départ)\n",
    "- le niveau final de la batterie aussi (c'est lui qui décidé si il veut une charge à 80% ou 95%)\n",
    "- la puissance maximale fournie par le réseau (on ne peut pas dépasser cette puissance, je ne suis pas sûr si il s'agit de la puissance totale que peut débiter le réseau à toutes les voitures en même temps, ou la puissance maximale qu'on puisse fournir à une voiture)\n",
    "\n",
    "\n",
    "Il y a peut-être d'autres contraintes sur le fonctionnement du système de rechage, celui-ci est peut-être plus performant lorsque'il y a peu de voitures à recharger simultanément par exempe. Enfin on peut également considérer la puissance maximale de récéption d'un véhicule, qui peut d'ailleurs varier d'un véhicule à l'autre\n"
   ]
  },
  {
   "cell_type": "markdown",
   "metadata": {},
   "source": [
    "### 2. Formuler un modèle dynamique reliant l’état de charge d’un véhicule et la puissance qui lui est fournie.\n"
   ]
  },
  {
   "cell_type": "markdown",
   "metadata": {},
   "source": [
    "Bon déjà vous êtes pénible avec vos questions hyper obscure où on ne sait pas de quoi vous parler mais bon passons. \n",
    "\n",
    "On connaît l'énergie à fournir aux véhicules et le temps qu'on a, en fonction de ce que l'utilisateur demande. Il suffit de diviser cette énergie par cette durée et on obtient la puissance moyenne à fournir sur toute la durée. \n",
    "\n",
    "On commence par fournir une puissance maximale pendant les heures à tarif réduits. Cette puissance n'est pas nécessairement la puissance maximale que peut recevoir la voiture, car il y aura surement d'autre véhicules branchées en même temps bref jsp. \n",
    "\n",
    "Puis si il reste de l'énergie à fournir, on utilise une puissance minimale sur les heures à tarifs complets. \n",
    "\n",
    "En fait comme EDF fait payer le kWh consommée et non le kW en cours d'utilisation, ça ne change rien si on minimise la puissance utilisée lors des heures à tarifs complets... Mais c'est peut-être plus simple à supporter. "
   ]
  },
  {
   "cell_type": "markdown",
   "metadata": {},
   "source": [
    "### 3.  Proposer une méthodologie d’identiﬁcation de ce modèle basée sur les données fournies sur Oasis et la mettre en oeuvre."
   ]
  },
  {
   "cell_type": "markdown",
   "metadata": {},
   "source": [
    "Encore une question obscure ça clc. \n",
    "\n",
    "En lisant les données j'ai l'impression que certaines voitures se déchargent à certains moments. Ducoup j'ai l'impression qu'on utilise l'électricité dans certaines voitures pour en charge d'autres pour ne pas avoir à consommer trop pendant les heures à tarifs complets? ça complexifie beaucoup le bordel et en plus comme les données sont sur une durée très courte (5min) ça m'éttonerait qu'on ait besoin de recourir à ça. \n",
    "\n",
    "Ducoup je ne comprends ni les données, ni la question. ciao\n"
   ]
  },
  {
   "cell_type": "code",
   "execution_count": 2,
   "metadata": {},
   "outputs": [],
   "source": [
    "import numpy as np\n"
   ]
  }
 ],
 "metadata": {
  "kernelspec": {
   "display_name": "Python 3",
   "language": "python",
   "name": "python3"
  },
  "language_info": {
   "codemirror_mode": {
    "name": "ipython",
    "version": 3
   },
   "file_extension": ".py",
   "mimetype": "text/x-python",
   "name": "python",
   "nbconvert_exporter": "python",
   "pygments_lexer": "ipython3",
   "version": "3.7.3"
  }
 },
 "nbformat": 4,
 "nbformat_minor": 2
}
